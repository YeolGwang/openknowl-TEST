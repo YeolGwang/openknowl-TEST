{
  "nbformat": 4,
  "nbformat_minor": 0,
  "metadata": {
    "colab": {
      "name": "05. Fashion_minist 분류모델 .ipynb",
      "provenance": [],
      "collapsed_sections": [],
      "include_colab_link": true
    },
    "kernelspec": {
      "name": "python3",
      "display_name": "Python 3"
    },
    "language_info": {
      "name": "python"
    },
    "accelerator": "GPU",
    "gpuClass": "standard"
  },
  "cells": [
    {
      "cell_type": "markdown",
      "metadata": {
        "id": "view-in-github",
        "colab_type": "text"
      },
      "source": [
        "<a href=\"https://colab.research.google.com/github/YeolGwang/openknowl-TEST/blob/main/05_Fashion_minist_%EB%B6%84%EB%A5%98%EB%AA%A8%EB%8D%B8_.ipynb\" target=\"_parent\"><img src=\"https://colab.research.google.com/assets/colab-badge.svg\" alt=\"Open In Colab\"/></a>"
      ]
    },
    {
      "cell_type": "code",
      "source": [
        "\"\"\"## DNN(MLP) 모델을 이용한 MNIST 데이터 셋 분류\n",
        "* 체점 기준 :\n",
        "  - 데이터 셋 : 체점 서버내 테스트 데이터 셋\n",
        "  - 성능 지표 : Accuracy\n",
        "  - PASS 기준 : 80% 이상\n",
        "\"\"\""
      ],
      "metadata": {
        "id": "tfqQbJD9awg6",
        "colab": {
          "base_uri": "https://localhost:8080/",
          "height": 35
        },
        "outputId": "797ef6a2-27e0-4ea8-dd4a-a91493db3bb9"
      },
      "execution_count": null,
      "outputs": [
        {
          "output_type": "execute_result",
          "data": {
            "text/plain": [
              "'## DNN(MLP) 모델을 이용한 MNIST 데이터 셋 분류\\n* 체점 기준 :\\n  - 데이터 셋 : 체점 서버내 테스트 데이터 셋\\n  - 성능 지표 : Accuracy\\n  - PASS 기준 : 80% 이상\\n'"
            ],
            "application/vnd.google.colaboratory.intrinsic+json": {
              "type": "string"
            }
          },
          "metadata": {},
          "execution_count": 1
        }
      ]
    },
    {
      "cell_type": "code",
      "source": [
        "import tensorflow as tf\n",
        "from tensorflow.keras.datasets import fashion_mnist\n",
        "import matplotlib.pyplot as plt"
      ],
      "metadata": {
        "id": "6WMKylhia0cO"
      },
      "execution_count": null,
      "outputs": []
    },
    {
      "cell_type": "code",
      "source": [
        "\"\"\"* Step 1. Inptu tensor 와 Target tensor 준비(훈련데이터)\"\"\"\n",
        "\n",
        "# label 데이터의 각 value 에 해당하는 class name 정보\n",
        "class_names = ['T-shirt/top', 'Trouser', 'Pullover', 'Dress', 'Coat',\n",
        "               'Sandal', 'Shirt', 'Sneaker', 'Bag', 'Ankle boot']\n",
        "\n",
        "\n",
        "# TODO\n",
        "# 1. import 한 fashion_mnist API를 이용하여 fashion_mnist 데이터 셋을 다운로드 \n",
        "(train_images, train_labels), (test_images, test_labels) = fashion_mnist.load_data()\n"
      ],
      "metadata": {
        "id": "-AlW7uHLbKa8",
        "colab": {
          "base_uri": "https://localhost:8080/"
        },
        "outputId": "653b9758-656f-4130-f966-c2b841eed5f7"
      },
      "execution_count": null,
      "outputs": [
        {
          "output_type": "stream",
          "name": "stdout",
          "text": [
            "Downloading data from https://storage.googleapis.com/tensorflow/tf-keras-datasets/train-labels-idx1-ubyte.gz\n",
            "32768/29515 [=================================] - 0s 0us/step\n",
            "40960/29515 [=========================================] - 0s 0us/step\n",
            "Downloading data from https://storage.googleapis.com/tensorflow/tf-keras-datasets/train-images-idx3-ubyte.gz\n",
            "26427392/26421880 [==============================] - 0s 0us/step\n",
            "26435584/26421880 [==============================] - 0s 0us/step\n",
            "Downloading data from https://storage.googleapis.com/tensorflow/tf-keras-datasets/t10k-labels-idx1-ubyte.gz\n",
            "16384/5148 [===============================================================================================] - 0s 0us/step\n",
            "Downloading data from https://storage.googleapis.com/tensorflow/tf-keras-datasets/t10k-images-idx3-ubyte.gz\n",
            "4423680/4422102 [==============================] - 0s 0us/step\n",
            "4431872/4422102 [==============================] - 0s 0us/step\n"
          ]
        }
      ]
    },
    {
      "cell_type": "code",
      "source": [
        "\"\"\"* Step 2. 데이터의 전처리 \"\"\"\n",
        "\n",
        "#  TODO\n",
        "# 1. 3차원 형태(batch, hight, width)의 train, test feature 데이터를 2차원(batch, hight*width)으로 변경\n",
        "# 2. feature 데이터를 [0, 1] 사이로 scailing을 수행하세요\n",
        "\n",
        "train_images = train_images.reshape((60000, 28*28))/255.\n",
        "test_images = test_images.reshape((10000, 28*28))/255.\n",
        "\n",
        "#  TODO\n",
        "# 1. 1차원 형태의(batch, ) class index 인 train, test label 데이터를\n",
        "#    to_categorical API를 이용하여 one-hot-encoding 수행하여 2차원(batch, class_cnt) 으로 변경\n",
        "\n",
        "from tensorflow.keras.utils import to_categorical\n",
        "\n",
        "train_labels = to_categorical(train_labels)\n",
        "test_labels = to_categorical(test_labels)"
      ],
      "metadata": {
        "id": "qLj1OgzgbLZO"
      },
      "execution_count": null,
      "outputs": []
    },
    {
      "cell_type": "code",
      "source": [
        "\"\"\"* Step 3. DNN(MLP) 모델 디자인\"\"\"\n",
        "\n",
        "#  TODO\n",
        "# 1. Sequential API를 이용하여 fashion_mnist 데이터 셋을 분석 하기 위한 MLP 모델을 디자인\n",
        "\n",
        "from tensorflow.keras import models, layers\n",
        "\n",
        "model = models.Sequential()\n",
        "\n",
        "model.add(layers.Dense(units=256, activation='relu', input_shape=(28*28,)))\n",
        "model.add(layers.Dense(units=10, activation='softmax'))\n",
        "model.summary()"
      ],
      "metadata": {
        "id": "i8_7gH-CbMAX",
        "colab": {
          "base_uri": "https://localhost:8080/"
        },
        "outputId": "1042e53b-156b-4e8c-a47a-0e9e91acaf1c"
      },
      "execution_count": null,
      "outputs": [
        {
          "output_type": "stream",
          "name": "stdout",
          "text": [
            "Model: \"sequential\"\n",
            "_________________________________________________________________\n",
            " Layer (type)                Output Shape              Param #   \n",
            "=================================================================\n",
            " dense (Dense)               (None, 256)               200960    \n",
            "                                                                 \n",
            " dense_1 (Dense)             (None, 10)                2570      \n",
            "                                                                 \n",
            "=================================================================\n",
            "Total params: 203,530\n",
            "Trainable params: 203,530\n",
            "Non-trainable params: 0\n",
            "_________________________________________________________________\n"
          ]
        }
      ]
    },
    {
      "cell_type": "code",
      "source": [
        "\n",
        "\"\"\"* Step 4. 모델의 학습 정보 설정\"\"\"\n",
        "\n",
        "#  TODO\n",
        "\n",
        "# 1. tf.keras.Model 객체의 compile 메서드를 이용하여 학습을 위한 정보들을 설정\n",
        "#   - optimizer\n",
        "#   - loss : categorical_crossentropy 로 설장(label 데이터를 one-hot-encoding 하였기 때문)\n",
        "#   - metrics : 체점 기준인 accuracy 로 설정\n",
        "\n",
        "model.compile(optimizer='rmsprop',\n",
        "              loss='categorical_crossentropy',\n",
        "              metrics=['accuracy'])"
      ],
      "metadata": {
        "id": "Oh1OSuRwbM7C"
      },
      "execution_count": null,
      "outputs": []
    },
    {
      "cell_type": "code",
      "source": [
        "\"\"\"* Step 5. 모델에 input, target 데이터 연결 후 학습\"\"\"\n",
        "\n",
        "#  TODO\n",
        "# 1. tf.keras.Model 객체의 fit 메서드를 이용하여 모델을 학습\n",
        "#   - fit 메서드의 verbose=2 로 설정\n",
        "\n",
        "history = model.fit(x=train_images, y=train_labels,\n",
        "                    epochs = 30,\n",
        "                    batch_size =128,\n",
        "                    validation_split=0.2,\n",
        "                    verbose=2)\n"
      ],
      "metadata": {
        "id": "X1fjQ2RAazkO",
        "colab": {
          "base_uri": "https://localhost:8080/"
        },
        "outputId": "3d8c597a-2d32-4e8f-b997-cda22744a36c"
      },
      "execution_count": null,
      "outputs": [
        {
          "output_type": "stream",
          "name": "stdout",
          "text": [
            "Epoch 1/30\n",
            "375/375 - 4s - loss: 0.5865 - accuracy: 0.7937 - val_loss: 0.4390 - val_accuracy: 0.8446 - 4s/epoch - 11ms/step\n",
            "Epoch 2/30\n",
            "375/375 - 1s - loss: 0.4077 - accuracy: 0.8515 - val_loss: 0.4753 - val_accuracy: 0.8153 - 1s/epoch - 3ms/step\n",
            "Epoch 3/30\n",
            "375/375 - 1s - loss: 0.3583 - accuracy: 0.8685 - val_loss: 0.3898 - val_accuracy: 0.8623 - 1s/epoch - 3ms/step\n",
            "Epoch 4/30\n",
            "375/375 - 1s - loss: 0.3281 - accuracy: 0.8788 - val_loss: 0.3448 - val_accuracy: 0.8758 - 1s/epoch - 3ms/step\n",
            "Epoch 5/30\n",
            "375/375 - 1s - loss: 0.3072 - accuracy: 0.8866 - val_loss: 0.3531 - val_accuracy: 0.8749 - 970ms/epoch - 3ms/step\n",
            "Epoch 6/30\n",
            "375/375 - 1s - loss: 0.2917 - accuracy: 0.8929 - val_loss: 0.3313 - val_accuracy: 0.8792 - 964ms/epoch - 3ms/step\n",
            "Epoch 7/30\n",
            "375/375 - 1s - loss: 0.2779 - accuracy: 0.8972 - val_loss: 0.3220 - val_accuracy: 0.8881 - 1s/epoch - 3ms/step\n",
            "Epoch 8/30\n",
            "375/375 - 1s - loss: 0.2645 - accuracy: 0.9021 - val_loss: 0.3357 - val_accuracy: 0.8830 - 942ms/epoch - 3ms/step\n",
            "Epoch 9/30\n",
            "375/375 - 1s - loss: 0.2531 - accuracy: 0.9065 - val_loss: 0.3706 - val_accuracy: 0.8676 - 1s/epoch - 3ms/step\n",
            "Epoch 10/30\n",
            "375/375 - 1s - loss: 0.2445 - accuracy: 0.9089 - val_loss: 0.3407 - val_accuracy: 0.8824 - 1s/epoch - 3ms/step\n",
            "Epoch 11/30\n",
            "375/375 - 1s - loss: 0.2337 - accuracy: 0.9131 - val_loss: 0.3219 - val_accuracy: 0.8897 - 1s/epoch - 3ms/step\n",
            "Epoch 12/30\n",
            "375/375 - 1s - loss: 0.2273 - accuracy: 0.9160 - val_loss: 0.3189 - val_accuracy: 0.8878 - 971ms/epoch - 3ms/step\n",
            "Epoch 13/30\n",
            "375/375 - 1s - loss: 0.2206 - accuracy: 0.9190 - val_loss: 0.3140 - val_accuracy: 0.8932 - 1s/epoch - 3ms/step\n",
            "Epoch 14/30\n",
            "375/375 - 1s - loss: 0.2112 - accuracy: 0.9215 - val_loss: 0.3331 - val_accuracy: 0.8875 - 950ms/epoch - 3ms/step\n",
            "Epoch 15/30\n",
            "375/375 - 1s - loss: 0.2045 - accuracy: 0.9235 - val_loss: 0.3727 - val_accuracy: 0.8756 - 978ms/epoch - 3ms/step\n",
            "Epoch 16/30\n",
            "375/375 - 1s - loss: 0.1971 - accuracy: 0.9264 - val_loss: 0.3298 - val_accuracy: 0.8955 - 963ms/epoch - 3ms/step\n",
            "Epoch 17/30\n",
            "375/375 - 1s - loss: 0.1925 - accuracy: 0.9290 - val_loss: 0.3459 - val_accuracy: 0.8933 - 947ms/epoch - 3ms/step\n",
            "Epoch 18/30\n",
            "375/375 - 1s - loss: 0.1895 - accuracy: 0.9307 - val_loss: 0.3257 - val_accuracy: 0.8972 - 1s/epoch - 3ms/step\n",
            "Epoch 19/30\n",
            "375/375 - 1s - loss: 0.1813 - accuracy: 0.9324 - val_loss: 0.3335 - val_accuracy: 0.8947 - 1s/epoch - 3ms/step\n",
            "Epoch 20/30\n",
            "375/375 - 1s - loss: 0.1773 - accuracy: 0.9338 - val_loss: 0.3806 - val_accuracy: 0.8777 - 1s/epoch - 3ms/step\n",
            "Epoch 21/30\n",
            "375/375 - 1s - loss: 0.1705 - accuracy: 0.9371 - val_loss: 0.3553 - val_accuracy: 0.8917 - 1s/epoch - 3ms/step\n",
            "Epoch 22/30\n",
            "375/375 - 1s - loss: 0.1658 - accuracy: 0.9391 - val_loss: 0.3758 - val_accuracy: 0.8884 - 952ms/epoch - 3ms/step\n",
            "Epoch 23/30\n",
            "375/375 - 1s - loss: 0.1604 - accuracy: 0.9403 - val_loss: 0.3696 - val_accuracy: 0.8938 - 1s/epoch - 4ms/step\n",
            "Epoch 24/30\n",
            "375/375 - 1s - loss: 0.1568 - accuracy: 0.9433 - val_loss: 0.3474 - val_accuracy: 0.8963 - 1s/epoch - 4ms/step\n",
            "Epoch 25/30\n",
            "375/375 - 1s - loss: 0.1528 - accuracy: 0.9436 - val_loss: 0.3576 - val_accuracy: 0.8982 - 952ms/epoch - 3ms/step\n",
            "Epoch 26/30\n",
            "375/375 - 1s - loss: 0.1493 - accuracy: 0.9453 - val_loss: 0.3551 - val_accuracy: 0.8963 - 943ms/epoch - 3ms/step\n",
            "Epoch 27/30\n",
            "375/375 - 1s - loss: 0.1446 - accuracy: 0.9470 - val_loss: 0.3739 - val_accuracy: 0.8932 - 963ms/epoch - 3ms/step\n",
            "Epoch 28/30\n",
            "375/375 - 1s - loss: 0.1416 - accuracy: 0.9484 - val_loss: 0.3881 - val_accuracy: 0.8939 - 948ms/epoch - 3ms/step\n",
            "Epoch 29/30\n",
            "375/375 - 1s - loss: 0.1375 - accuracy: 0.9497 - val_loss: 0.4303 - val_accuracy: 0.8869 - 1s/epoch - 3ms/step\n",
            "Epoch 30/30\n",
            "375/375 - 1s - loss: 0.1330 - accuracy: 0.9517 - val_loss: 0.4251 - val_accuracy: 0.8906 - 956ms/epoch - 3ms/step\n"
          ]
        }
      ]
    },
    {
      "cell_type": "code",
      "source": [
        "loss, accuracy = model.evaluate(test_images, test_labels)\n",
        "print(loss, accuracy)"
      ],
      "metadata": {
        "colab": {
          "base_uri": "https://localhost:8080/"
        },
        "id": "JD4Q8TrdYsw1",
        "outputId": "f721b5bf-f27e-4ed2-f966-080d5708068e"
      },
      "execution_count": null,
      "outputs": [
        {
          "output_type": "stream",
          "name": "stdout",
          "text": [
            "313/313 [==============================] - 1s 2ms/step - loss: 0.4581 - accuracy: 0.8773\n",
            "0.45813262462615967 0.8773000240325928\n"
          ]
        }
      ]
    },
    {
      "cell_type": "code",
      "source": [
        "\"\"\"* 모델 제출 \"\"\"\n",
        "\n",
        "# 학습된 모델을 제출하기 위한 코드 입니다. 수정하지 마세요\n",
        "model.save('my_model.h5')"
      ],
      "metadata": {
        "id": "_iRoZvT5bPCQ"
      },
      "execution_count": null,
      "outputs": []
    }
  ]
}