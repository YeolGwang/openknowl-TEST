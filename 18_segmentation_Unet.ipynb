{
  "cells": [
    {
      "cell_type": "markdown",
      "metadata": {
        "id": "view-in-github",
        "colab_type": "text"
      },
      "source": [
        "<a href=\"https://colab.research.google.com/github/YeolGwang/openknowl-TEST/blob/main/18_segmentation_Unet.ipynb\" target=\"_parent\"><img src=\"https://colab.research.google.com/assets/colab-badge.svg\" alt=\"Open In Colab\"/></a>"
      ]
    },
    {
      "cell_type": "code",
      "execution_count": null,
      "metadata": {
        "id": "859AvouX5Mtd"
      },
      "outputs": [],
      "source": [
        "from google.colab import drive\n",
        "drive.mount ('./MyDrive')"
      ]
    },
    {
      "cell_type": "code",
      "execution_count": null,
      "metadata": {
        "colab": {
          "base_uri": "https://localhost:8080/"
        },
        "id": "TdcKp42K59dX",
        "outputId": "db48ade7-c356-4817-92c1-37e275faaaad"
      },
      "outputs": [
        {
          "name": "stdout",
          "output_type": "stream",
          "text": [
            "[Errno 2] No such file or directory: 'MyDrive/MyDrive/CV_exprt/SEG'\n",
            "/content\n"
          ]
        }
      ],
      "source": [
        "cd MyDrive/MyDrive/CV_exprt/SEG"
      ]
    },
    {
      "cell_type": "code",
      "execution_count": null,
      "metadata": {
        "colab": {
          "base_uri": "https://localhost:8080/",
          "height": 35
        },
        "id": "yPdeOHXI6sRm",
        "outputId": "3f2debf9-8ad3-472a-a41b-f98e98e9185c"
      },
      "outputs": [
        {
          "data": {
            "application/vnd.google.colaboratory.intrinsic+json": {
              "type": "string"
            },
            "text/plain": [
              "'/content'"
            ]
          },
          "execution_count": 2,
          "metadata": {},
          "output_type": "execute_result"
        }
      ],
      "source": [
        "pwd"
      ]
    },
    {
      "cell_type": "code",
      "execution_count": null,
      "metadata": {
        "id": "UI36Ru9Xet7_"
      },
      "outputs": [],
      "source": [
        "import os\n",
        "import sys\n",
        "import random\n",
        "import numpy as np\n",
        "import cv2\n",
        "import matplotlib.pyplot as plt\n",
        "\n",
        "import tensorflow as tf\n",
        "from tensorflow import keras\n",
        "\n"
      ]
    },
    {
      "cell_type": "code",
      "execution_count": null,
      "metadata": {
        "id": "Gj09ctbjet8L"
      },
      "outputs": [],
      "source": [
        "# class : 특정 기능과 관련된 변수, 함수를 모아서 구성한 자료 구조\n",
        "# __init__() : DataGen class 인스턴스 생성시, 자동적으로 호출되는 함수, 파라미터를 세팅\n",
        "# __load__() : 이미지 id를 인자로 받아 image와 mask load하여 반환하는 함수 \n",
        "# __getitem__() : 학습단위(batch size)로 data를 재구성\n",
        "\n",
        "class DataGen(keras.utils.Sequence):\n",
        "    def __init__(self, ids, path, batch_size = 8, image_size = 128):\n",
        "        self.ids = ids\n",
        "        self.path =path\n",
        "        self.batch_size = batch_size\n",
        "        self.image_size = image_size\n",
        "        \n",
        "\n",
        "    def __load__(self, id_name):\n",
        "        image_path = os.path.join(self.path, id_name, \"images\", id_name)+\".png\"\n",
        "        mask_path = os.path.join(self.path, id_name,\"masks/\")\n",
        "        all_masks = os.listdir(mask_path)\n",
        "        \n",
        "        image = cv2.imread(image_path, 1)\n",
        "        image = cv2.resize(image, (self.image_size, self.image_size))\n",
        "        image.shape\n",
        "        mask = np.zeros((self.image_size, self.image_size, 1))\n",
        "        \n",
        "        for name in all_masks:\n",
        "            _mask_path = mask_path+name\n",
        "            _mask_image = cv2.imread(_mask_path, -1)\n",
        "            _mask_image = cv2.resize(_mask_image, (self.image_size, self.image_size))\n",
        "            _mask_image = np.expand_dims(_mask_image, axis=-1)\n",
        "            mask= np.maximum(mask, _mask_image)\n",
        "        image = image/255.0\n",
        "        mask = mask/255.0\n",
        "        \n",
        "        return image, mask\n",
        "    \n",
        "\n",
        "    def __getitem__(self, index):\n",
        "        files_batch = self.ids[index*self.batch_size:(index+1)*self.batch_size]\n",
        "        image=[]\n",
        "        mask=[]\n",
        "        \n",
        "        for id_name in files_batch:\n",
        "            _img, _mask = self.__load__(id_name)\n",
        "            image.append(_img)\n",
        "            mask.append(_mask)\n",
        "            \n",
        "        image =np.array(image)\n",
        "        mask = np.array(mask)\n",
        "        \n",
        "        return image, mask\n",
        "        \n",
        "    def __len__(self):\n",
        "        return int(np.ceil(len(self.ids)/float(self.batch_size)))"
      ]
    },
    {
      "cell_type": "code",
      "execution_count": null,
      "metadata": {
        "id": "cV1JZCw2et8S"
      },
      "outputs": [],
      "source": [
        "image_size = 128\n",
        "train_path=\"./data-science-bowl-2018/stage1_train/\"\n",
        "batch_size= 8\n",
        "\n",
        "train_ids = next(os.walk(train_path))[1]\n",
        "val_data_size = 10\n",
        "valid_ids = train_ids[:val_data_size]\n",
        "train_ids = train_ids[val_data_size:]\n",
        "\n"
      ]
    },
    {
      "cell_type": "code",
      "execution_count": null,
      "metadata": {
        "colab": {
          "background_save": true
        },
        "id": "2NKGiWpLet8U",
        "outputId": "529f8161-d750-410b-95c2-2f9b826d19d2"
      },
      "outputs": [
        {
          "name": "stdout",
          "output_type": "stream",
          "text": [
            "(8, 128, 128, 3) (8, 128, 128, 1)\n"
          ]
        }
      ],
      "source": [
        "gen = DataGen(train_ids, train_path, batch_size = batch_size, image_size= image_size)\n",
        "x,y = gen.__getitem__(0)\n",
        "\n",
        "\n",
        "# batchsize, width, height, channel\n",
        "print(x.shape, y.shape)"
      ]
    },
    {
      "cell_type": "code",
      "execution_count": null,
      "metadata": {
        "colab": {
          "background_save": true
        },
        "id": "3AgcYJJeet8X",
        "outputId": "34ead093-8d6b-4826-94cc-e027a317abf8"
      },
      "outputs": [
        {
          "name": "stdout",
          "output_type": "stream",
          "text": [
            "7\n",
            "(128, 128, 3)\n"
          ]
        },
        {
          "data": {
            "text/plain": [
              "<matplotlib.image.AxesImage at 0x7fb1ab711250>"
            ]
          },
          "execution_count": 7,
          "metadata": {},
          "output_type": "execute_result"
        },
        {
          "data": {
            "image/png": "[encoded data removed]",
            "text/plain": [
              "<Figure size 432x288 with 2 Axes>"
            ]
          },
          "metadata": {},
          "output_type": "display_data"
        }
      ],
      "source": [
        "r = random.randint(0, len(x)-1)\n",
        "print(len(x)-1)\n",
        "print(x[r].shape)\n",
        "fig = plt.figure()\n",
        "fig.subplots_adjust(hspace=0.4, wspace=0.4)\n",
        "ax = fig.add_subplot(1,2,1)\n",
        "ax.imshow(x[r])\n",
        "ax = fig.add_subplot(1,2,2)\n",
        "ax.imshow(np.reshape(y[r], (image_size, image_size)), cmap=\"gray\")"
      ]
    },
    {
      "cell_type": "code",
      "execution_count": null,
      "metadata": {
        "id": "_DM6FE3wet8Z"
      },
      "outputs": [],
      "source": [
        "def down_block(x,filters, kernel_size=(3,3), padding =\"same\", strides = 1):\n",
        "    \n",
        "    c = keras.layers.Conv2D(filters, kernel_size, padding = padding, strides = strides, activation = \"relu\")(x)\n",
        "    c = keras.layers.Conv2D(filters, kernel_size, padding = padding, strides = strides, activation = \"relu\")(c)\n",
        "    \n",
        "    p = keras.layers.MaxPool2D((2,2), (2,2))(c)\n",
        "    \n",
        "    return c, p\n",
        "\n",
        "def up_block(x, skip, filters, kernel_size= (3,3), padding= \"same\", strides = 1 ):\n",
        "    us = keras.layers.UpSampling2D((2,2))(x)\n",
        "    concat = keras.layers.Concatenate()([us,skip])\n",
        "    c = keras.layers.Conv2D(filters, kernel_size, padding = padding, strides = strides, activation = \"relu\")(concat)\n",
        "    c = keras.layers.Conv2D(filters, kernel_size, padding = padding, strides = strides, activation = \"relu\")(c)\n",
        "    return c\n",
        "\n",
        "def bottleneck(x,filters, kernel_size=(3,3), padding =\"same\", strides = 1):\n",
        "    c = keras.layers.Conv2D(filters, kernel_size, padding = padding, strides = strides, activation = \"relu\")(x)\n",
        "    c = keras.layers.Conv2D(filters, kernel_size, padding = padding, strides = strides, activation = \"relu\")(c)\n",
        "    return c\n",
        "    "
      ]
    },
    {
      "cell_type": "code",
      "execution_count": null,
      "metadata": {
        "id": "nvWWkYfOet8a"
      },
      "outputs": [],
      "source": [
        "def UNet():\n",
        "    f = [16,32,64,128, 256]\n",
        "    inputs =keras.layers.Input((image_size, image_size, 3))\n",
        "    \n",
        "    p0 = inputs\n",
        "    c1, p1 = down_block(p0, f[0]) #128 -> 64\n",
        "    c2, p2 = down_block(p1, f[1]) #64 -> 32\n",
        "    c3, p3 = down_block(p2, f[2]) #32 -> 16\n",
        "    c4, p4 = down_block(p3, f[3]) #16 -> 8\n",
        "    \n",
        "    bn = bottleneck(p4,f[4])\n",
        "    \n",
        "    u1=up_block(bn, c4, f[3]) # 8->16\n",
        "    u2=up_block(u1, c3, f[2]) # 16->32\n",
        "    u3=up_block(u2, c2, f[1]) # 32->64\n",
        "    u4=up_block(u3, c1, f[0]) # 64->127\n",
        "    \n",
        "    outputs = keras.layers.Conv2D(1,(1,1), padding = \"same\", activation=\"sigmoid\")(u4)\n",
        "    \n",
        "    model = keras.models.Model(inputs, outputs)\n",
        "    return model\n"
      ]
    },
    {
      "cell_type": "code",
      "execution_count": null,
      "metadata": {
        "id": "nx7_Kvu0et8c"
      },
      "outputs": [],
      "source": [
        "model = UNet()\n",
        "model.compile(optimizer=\"adam\", loss=\"binary_crossentropy\", metrics = [\"acc\"])\n",
        "model.summary()"
      ]
    },
    {
      "cell_type": "code",
      "execution_count": null,
      "metadata": {
        "id": "WL6u6uCAet8f",
        "outputId": "f7bf27c6-6136-4d3f-a70b-47e2a5a8a05c"
      },
      "outputs": [
        {
          "name": "stdout",
          "output_type": "stream",
          "text": [
            "81/82 [============================>.] - ETA: 3s - loss: 0.3572 - acc: 0.8466\n",
            "Epoch 00001: val_loss improved from inf to 0.36545, saving model to mymodel_1.h5\n",
            "82/82 [==============================] - 257s 3s/step - loss: 0.3546 - acc: 0.8474 - val_loss: 0.3654 - val_acc: 0.8186\n"
          ]
        },
        {
          "data": {
            "text/plain": [
              "<tensorflow.python.keras.callbacks.History at 0x249de4cfcc0>"
            ]
          },
          "execution_count": 12,
          "metadata": {},
          "output_type": "execute_result"
        }
      ],
      "source": [
        "train_gen = DataGen(train_ids, train_path, image_size =image_size, batch_size = batch_size)\n",
        "valid_gen = DataGen(valid_ids, train_path, image_size =image_size, batch_size = batch_size)\n",
        "\n",
        "train_steps = len(train_ids)//batch_size\n",
        "valid_steps= len(valid_ids)//batch_size\n",
        "\n",
        "model.fit_generator(train_gen, validation_data=valid_gen, steps_per_epoch= train_steps, validation_steps=valid_steps, epochs = 1)"
      ]
    },
    {
      "cell_type": "code",
      "execution_count": null,
      "metadata": {
        "id": "Rpi88G8Det8i"
      },
      "outputs": [],
      "source": [
        "\n",
        "x,y = valid_gen.__getitem__(1)\n",
        "result = model.predict(x)\n",
        "result = result>0.5"
      ]
    },
    {
      "cell_type": "code",
      "execution_count": null,
      "metadata": {
        "id": "-boBZjN1et8k",
        "outputId": "b2d6d2b9-de4a-4924-f000-4a6565ab165c"
      },
      "outputs": [
        {
          "data": {
            "text/plain": [
              "<matplotlib.image.AxesImage at 0x1f3b3bf5be0>"
            ]
          },
          "execution_count": 28,
          "metadata": {},
          "output_type": "execute_result"
        },
        {
          "data": {
            "image/png": "[encoded data removed]",
            "text/plain": [
              "<Figure size 432x288 with 2 Axes>"
            ]
          },
          "metadata": {},
          "output_type": "display_data"
        }
      ],
      "source": [
        "fig = plt.figure()\n",
        "fig.subplots_adjust(hspace=0.4, wspace=0.4)\n",
        "ax = fig.add_subplot(1,2,1)\n",
        "ax.imshow(np.reshape(y[0]*255, (image_size, image_size)), cmap=\"gray\")\n",
        "ax = fig.add_subplot(1,2,2)\n",
        "ax.imshow(np.reshape(result[0]*255, (image_size, image_size)), cmap=\"gray\")"
      ]
    },
    {
      "cell_type": "code",
      "execution_count": null,
      "metadata": {
        "id": "WimIbuiJet8l",
        "outputId": "734dc876-9923-4f8c-cc8d-9aef8ddf214d"
      },
      "outputs": [
        {
          "data": {
            "text/plain": [
              "<matplotlib.image.AxesImage at 0x1f3b5cf66d8>"
            ]
          },
          "execution_count": 29,
          "metadata": {},
          "output_type": "execute_result"
        },
        {
          "data": {
            "image/png": "[encoded data removed]",
            "text/plain": [
              "<Figure size 432x288 with 2 Axes>"
            ]
          },
          "metadata": {},
          "output_type": "display_data"
        }
      ],
      "source": [
        "fig = plt.figure()\n",
        "fig.subplots_adjust(hspace=0.4, wspace=0.4)\n",
        "ax = fig.add_subplot(1,2,1)\n",
        "ax.imshow(np.reshape(y[1]*255, (image_size, image_size)), cmap=\"gray\")\n",
        "ax = fig.add_subplot(1,2,2)\n",
        "ax.imshow(np.reshape(result[1]*255, (image_size, image_size)), cmap=\"gray\")"
      ]
    },
    {
      "cell_type": "code",
      "execution_count": null,
      "metadata": {
        "id": "1qKaFf4Get8n"
      },
      "outputs": [],
      "source": [
        "model.save('seg.h5')"
      ]
    },
    {
      "cell_type": "code",
      "execution_count": null,
      "metadata": {
        "id": "HOjCpMC6et8o",
        "outputId": "0377a48d-ad75-4704-d527-477b85145d0e"
      },
      "outputs": [
        {
          "name": "stdout",
          "output_type": "stream",
          "text": [
            "Model: \"model_1\"\n",
            "__________________________________________________________________________________________________\n",
            "Layer (type)                    Output Shape         Param #     Connected to                     \n",
            "==================================================================================================\n",
            "input_2 (InputLayer)            [(None, 128, 128, 3) 0                                            \n",
            "__________________________________________________________________________________________________\n",
            "conv2d_19 (Conv2D)              (None, 128, 128, 16) 448         input_2[0][0]                    \n",
            "__________________________________________________________________________________________________\n",
            "conv2d_20 (Conv2D)              (None, 128, 128, 16) 2320        conv2d_19[0][0]                  \n",
            "__________________________________________________________________________________________________\n",
            "max_pooling2d_4 (MaxPooling2D)  (None, 64, 64, 16)   0           conv2d_20[0][0]                  \n",
            "__________________________________________________________________________________________________\n",
            "conv2d_21 (Conv2D)              (None, 64, 64, 32)   4640        max_pooling2d_4[0][0]            \n",
            "__________________________________________________________________________________________________\n",
            "conv2d_22 (Conv2D)              (None, 64, 64, 32)   9248        conv2d_21[0][0]                  \n",
            "__________________________________________________________________________________________________\n",
            "max_pooling2d_5 (MaxPooling2D)  (None, 32, 32, 32)   0           conv2d_22[0][0]                  \n",
            "__________________________________________________________________________________________________\n",
            "conv2d_23 (Conv2D)              (None, 32, 32, 64)   18496       max_pooling2d_5[0][0]            \n",
            "__________________________________________________________________________________________________\n",
            "conv2d_24 (Conv2D)              (None, 32, 32, 64)   36928       conv2d_23[0][0]                  \n",
            "__________________________________________________________________________________________________\n",
            "max_pooling2d_6 (MaxPooling2D)  (None, 16, 16, 64)   0           conv2d_24[0][0]                  \n",
            "__________________________________________________________________________________________________\n",
            "conv2d_25 (Conv2D)              (None, 16, 16, 128)  73856       max_pooling2d_6[0][0]            \n",
            "__________________________________________________________________________________________________\n",
            "conv2d_26 (Conv2D)              (None, 16, 16, 128)  147584      conv2d_25[0][0]                  \n",
            "__________________________________________________________________________________________________\n",
            "max_pooling2d_7 (MaxPooling2D)  (None, 8, 8, 128)    0           conv2d_26[0][0]                  \n",
            "__________________________________________________________________________________________________\n",
            "conv2d_27 (Conv2D)              (None, 8, 8, 256)    295168      max_pooling2d_7[0][0]            \n",
            "__________________________________________________________________________________________________\n",
            "conv2d_28 (Conv2D)              (None, 8, 8, 256)    590080      conv2d_27[0][0]                  \n",
            "__________________________________________________________________________________________________\n",
            "up_sampling2d_4 (UpSampling2D)  (None, 16, 16, 256)  0           conv2d_28[0][0]                  \n",
            "__________________________________________________________________________________________________\n",
            "concatenate_4 (Concatenate)     (None, 16, 16, 384)  0           up_sampling2d_4[0][0]            \n",
            "                                                                 conv2d_26[0][0]                  \n",
            "__________________________________________________________________________________________________\n",
            "conv2d_29 (Conv2D)              (None, 16, 16, 128)  442496      concatenate_4[0][0]              \n",
            "__________________________________________________________________________________________________\n",
            "conv2d_30 (Conv2D)              (None, 16, 16, 128)  147584      conv2d_29[0][0]                  \n",
            "__________________________________________________________________________________________________\n",
            "up_sampling2d_5 (UpSampling2D)  (None, 32, 32, 128)  0           conv2d_30[0][0]                  \n",
            "__________________________________________________________________________________________________\n",
            "concatenate_5 (Concatenate)     (None, 32, 32, 192)  0           up_sampling2d_5[0][0]            \n",
            "                                                                 conv2d_24[0][0]                  \n",
            "__________________________________________________________________________________________________\n",
            "conv2d_31 (Conv2D)              (None, 32, 32, 64)   110656      concatenate_5[0][0]              \n",
            "__________________________________________________________________________________________________\n",
            "conv2d_32 (Conv2D)              (None, 32, 32, 64)   36928       conv2d_31[0][0]                  \n",
            "__________________________________________________________________________________________________\n",
            "up_sampling2d_6 (UpSampling2D)  (None, 64, 64, 64)   0           conv2d_32[0][0]                  \n",
            "__________________________________________________________________________________________________\n",
            "concatenate_6 (Concatenate)     (None, 64, 64, 96)   0           up_sampling2d_6[0][0]            \n",
            "                                                                 conv2d_22[0][0]                  \n",
            "__________________________________________________________________________________________________\n",
            "conv2d_33 (Conv2D)              (None, 64, 64, 32)   27680       concatenate_6[0][0]              \n",
            "__________________________________________________________________________________________________\n",
            "conv2d_34 (Conv2D)              (None, 64, 64, 32)   9248        conv2d_33[0][0]                  \n",
            "__________________________________________________________________________________________________\n",
            "up_sampling2d_7 (UpSampling2D)  (None, 128, 128, 32) 0           conv2d_34[0][0]                  \n",
            "__________________________________________________________________________________________________\n",
            "concatenate_7 (Concatenate)     (None, 128, 128, 48) 0           up_sampling2d_7[0][0]            \n",
            "                                                                 conv2d_20[0][0]                  \n",
            "__________________________________________________________________________________________________\n",
            "conv2d_35 (Conv2D)              (None, 128, 128, 16) 6928        concatenate_7[0][0]              \n",
            "__________________________________________________________________________________________________\n",
            "conv2d_36 (Conv2D)              (None, 128, 128, 16) 2320        conv2d_35[0][0]                  \n",
            "__________________________________________________________________________________________________\n",
            "conv2d_37 (Conv2D)              (None, 128, 128, 1)  17          conv2d_36[0][0]                  \n",
            "==================================================================================================\n",
            "Total params: 1,962,625\n",
            "Trainable params: 1,962,625\n",
            "Non-trainable params: 0\n",
            "__________________________________________________________________________________________________\n"
          ]
        }
      ],
      "source": [
        "\n",
        "loaded_model=keras.models.load_model('seg.h5')\n",
        "\n",
        "loaded_model.compile(optimizer=\"adam\", loss=\"binary_crossentropy\", metrics = [\"acc\"])\n",
        "loaded_model.summary()\n"
      ]
    },
    {
      "cell_type": "code",
      "execution_count": null,
      "metadata": {
        "id": "o9FlNNs1et8q"
      },
      "outputs": [],
      "source": [
        "x,y = valid_gen.__getitem__(1)\n",
        "result = loaded_model.predict(x)\n",
        "\n",
        "result = result>0.5"
      ]
    },
    {
      "cell_type": "code",
      "execution_count": null,
      "metadata": {
        "id": "Elhcbr39et8r",
        "outputId": "6b6eaf11-878a-41df-90f9-a005c061f48c"
      },
      "outputs": [
        {
          "data": {
            "text/plain": [
              "<matplotlib.image.AxesImage at 0x1f3b1308a58>"
            ]
          },
          "execution_count": 25,
          "metadata": {},
          "output_type": "execute_result"
        },
        {
          "data": {
            "image/png": "[encoded data removed]",
            "text/plain": [
              "<Figure size 432x288 with 2 Axes>"
            ]
          },
          "metadata": {},
          "output_type": "display_data"
        }
      ],
      "source": [
        "fig = plt.figure()\n",
        "fig.subplots_adjust(hspace=0.4, wspace=0.4)\n",
        "ax = fig.add_subplot(1,2,1)\n",
        "ax.imshow(np.reshape(y[0]*255, (image_size, image_size)), cmap=\"gray\")\n",
        "ax = fig.add_subplot(1,2,2)\n",
        "ax.imshow(np.reshape(result[0]*255, (image_size, image_size)), cmap=\"gray\")"
      ]
    },
    {
      "cell_type": "code",
      "execution_count": null,
      "metadata": {
        "id": "0MCSpSvhet8s"
      },
      "outputs": [],
      "source": [
        ""
      ]
    }
  ],
  "metadata": {
    "accelerator": "GPU",
    "colab": {
      "collapsed_sections": [],
      "name": "18. segmentation_Unet.ipynb",
      "provenance": [],
      "include_colab_link": true
    },
    "gpuClass": "standard",
    "kernelspec": {
      "display_name": "Python 3",
      "language": "python",
      "name": "python3"
    },
    "language_info": {
      "codemirror_mode": {
        "name": "ipython",
        "version": 3
      },
      "file_extension": ".py",
      "mimetype": "text/x-python",
      "name": "python",
      "nbconvert_exporter": "python",
      "pygments_lexer": "ipython3",
      "version": "3.6.2"
    }
  },
  "nbformat": 4,
  "nbformat_minor": 0
}