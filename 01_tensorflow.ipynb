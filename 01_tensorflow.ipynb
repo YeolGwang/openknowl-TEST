{
  "nbformat": 4,
  "nbformat_minor": 0,
  "metadata": {
    "colab": {
      "name": "01 tensorflow.ipynb",
      "provenance": [],
      "collapsed_sections": [],
      "include_colab_link": true
    },
    "kernelspec": {
      "name": "python3",
      "display_name": "Python 3"
    },
    "language_info": {
      "name": "python"
    },
    "accelerator": "GPU",
    "gpuClass": "standard"
  },
  "cells": [
    {
      "cell_type": "markdown",
      "metadata": {
        "id": "view-in-github",
        "colab_type": "text"
      },
      "source": [
        "<a href=\"https://colab.research.google.com/github/YeolGwang/openknowl-TEST/blob/main/01_tensorflow.ipynb\" target=\"_parent\"><img src=\"https://colab.research.google.com/assets/colab-badge.svg\" alt=\"Open In Colab\"/></a>"
      ]
    },
    {
      "cell_type": "code",
      "source": [
        "!nvidia-smi"
      ],
      "metadata": {
        "colab": {
          "base_uri": "https://localhost:8080/"
        },
        "id": "0Mb_K478fqEd",
        "outputId": "3a6c894c-edab-4981-ecb2-d0d12268696e"
      },
      "execution_count": null,
      "outputs": [
        {
          "output_type": "stream",
          "name": "stdout",
          "text": [
            "Tue Jul 26 03:13:43 2022       \n",
            "+-----------------------------------------------------------------------------+\n",
            "| NVIDIA-SMI 460.32.03    Driver Version: 460.32.03    CUDA Version: 11.2     |\n",
            "|-------------------------------+----------------------+----------------------+\n",
            "| GPU  Name        Persistence-M| Bus-Id        Disp.A | Volatile Uncorr. ECC |\n",
            "| Fan  Temp  Perf  Pwr:Usage/Cap|         Memory-Usage | GPU-Util  Compute M. |\n",
            "|                               |                      |               MIG M. |\n",
            "|===============================+======================+======================|\n",
            "|   0  Tesla T4            Off  | 00000000:00:04.0 Off |                    0 |\n",
            "| N/A   61C    P0    29W /  70W |    286MiB / 15109MiB |      0%      Default |\n",
            "|                               |                      |                  N/A |\n",
            "+-------------------------------+----------------------+----------------------+\n",
            "                                                                               \n",
            "+-----------------------------------------------------------------------------+\n",
            "| Processes:                                                                  |\n",
            "|  GPU   GI   CI        PID   Type   Process name                  GPU Memory |\n",
            "|        ID   ID                                                   Usage      |\n",
            "|=============================================================================|\n",
            "+-----------------------------------------------------------------------------+\n"
          ]
        }
      ]
    },
    {
      "cell_type": "code",
      "execution_count": null,
      "metadata": {
        "id": "ZPKQwnxVj0tA"
      },
      "outputs": [],
      "source": [
        "import tensorflow as tf\n",
        "import numpy as np"
      ]
    },
    {
      "cell_type": "code",
      "source": [
        "print(tf.__version__)"
      ],
      "metadata": {
        "id": "JrKlzonqkFRz",
        "colab": {
          "base_uri": "https://localhost:8080/"
        },
        "outputId": "253464d2-d47a-45cb-8a3e-1b9069564afa"
      },
      "execution_count": null,
      "outputs": [
        {
          "output_type": "stream",
          "name": "stdout",
          "text": [
            "2.8.2\n"
          ]
        }
      ]
    },
    {
      "cell_type": "markdown",
      "source": [
        "tf.constant(상수)\n",
        ": 상수형 텐서로써 할당된 값의 변경이 불가"
      ],
      "metadata": {
        "id": "YSs0qTeakGTf"
      }
    },
    {
      "cell_type": "code",
      "source": [
        "# (2, 2, 3)\n",
        "d3_tensor = tf.constant([[[1, 2, 3],\n",
        "                          [4, 5, 6]],\n",
        "                         [[-1, -2, -3],\n",
        "                          [-4, -5, -6]]])"
      ],
      "metadata": {
        "id": "izDu6f0nkbzk"
      },
      "execution_count": null,
      "outputs": []
    },
    {
      "cell_type": "code",
      "source": [
        "d3_tensor"
      ],
      "metadata": {
        "id": "hKCgDXaKkdn9",
        "colab": {
          "base_uri": "https://localhost:8080/"
        },
        "outputId": "3b820c14-32e4-42e0-a2fa-a33ac3935f55"
      },
      "execution_count": null,
      "outputs": [
        {
          "output_type": "execute_result",
          "data": {
            "text/plain": [
              "<tf.Tensor: shape=(2, 2, 3), dtype=int32, numpy=\n",
              "array([[[ 1,  2,  3],\n",
              "        [ 4,  5,  6]],\n",
              "\n",
              "       [[-1, -2, -3],\n",
              "        [-4, -5, -6]]], dtype=int32)>"
            ]
          },
          "metadata": {},
          "execution_count": 11
        }
      ]
    },
    {
      "cell_type": "code",
      "source": [
        "d3_tensor[0, 0, 0] = 0"
      ],
      "metadata": {
        "id": "jT5OYqtTkv2I",
        "colab": {
          "base_uri": "https://localhost:8080/",
          "height": 174
        },
        "outputId": "14198ae9-0e41-434d-ce1c-cf97d93c9b76"
      },
      "execution_count": null,
      "outputs": [
        {
          "output_type": "error",
          "ename": "TypeError",
          "evalue": "ignored",
          "traceback": [
            "\u001b[0;31m---------------------------------------------------------------------------\u001b[0m",
            "\u001b[0;31mTypeError\u001b[0m                                 Traceback (most recent call last)",
            "\u001b[0;32m<ipython-input-12-430307a3c758>\u001b[0m in \u001b[0;36m<module>\u001b[0;34m()\u001b[0m\n\u001b[0;32m----> 1\u001b[0;31m \u001b[0md3_tensor\u001b[0m\u001b[0;34m[\u001b[0m\u001b[0;36m0\u001b[0m\u001b[0;34m,\u001b[0m \u001b[0;36m0\u001b[0m\u001b[0;34m,\u001b[0m \u001b[0;36m0\u001b[0m\u001b[0;34m]\u001b[0m \u001b[0;34m=\u001b[0m \u001b[0;36m0\u001b[0m\u001b[0;34m\u001b[0m\u001b[0;34m\u001b[0m\u001b[0m\n\u001b[0m",
            "\u001b[0;31mTypeError\u001b[0m: 'tensorflow.python.framework.ops.EagerTensor' object does not support item assignment"
          ]
        }
      ]
    },
    {
      "cell_type": "code",
      "source": [
        "np_d3_tensor = d3_tensor.numpy()"
      ],
      "metadata": {
        "id": "sAjE2GmlkhcK"
      },
      "execution_count": null,
      "outputs": []
    },
    {
      "cell_type": "code",
      "source": [
        "np_d3_tensor"
      ],
      "metadata": {
        "id": "1wJNQjAgklsC",
        "colab": {
          "base_uri": "https://localhost:8080/"
        },
        "outputId": "c86948e6-90d2-46fb-a7bf-c004d200e84f"
      },
      "execution_count": null,
      "outputs": [
        {
          "output_type": "execute_result",
          "data": {
            "text/plain": [
              "array([[[ 1,  2,  3],\n",
              "        [ 4,  5,  6]],\n",
              "\n",
              "       [[-1, -2, -3],\n",
              "        [-4, -5, -6]]], dtype=int32)"
            ]
          },
          "metadata": {},
          "execution_count": 14
        }
      ]
    },
    {
      "cell_type": "code",
      "source": [
        "np_d3_tensor[0, 0, 0] = 0"
      ],
      "metadata": {
        "id": "zY8OviYwkwnk"
      },
      "execution_count": null,
      "outputs": []
    },
    {
      "cell_type": "code",
      "source": [
        "np_d3_tensor"
      ],
      "metadata": {
        "colab": {
          "base_uri": "https://localhost:8080/"
        },
        "id": "Lel9hWPCg88P",
        "outputId": "a9e0af3d-0fd6-45b7-f2a2-9529ff3bb0b4"
      },
      "execution_count": null,
      "outputs": [
        {
          "output_type": "execute_result",
          "data": {
            "text/plain": [
              "array([[[ 0,  2,  3],\n",
              "        [ 4,  5,  6]],\n",
              "\n",
              "       [[-1, -2, -3],\n",
              "        [-4, -5, -6]]], dtype=int32)"
            ]
          },
          "metadata": {},
          "execution_count": 17
        }
      ]
    },
    {
      "cell_type": "code",
      "source": [
        "print(d3_tensor.ndim)\n",
        "print(d3_tensor.shape)\n",
        "print(d3_tensor.dtype)"
      ],
      "metadata": {
        "id": "jvvUg5HYkyrI",
        "colab": {
          "base_uri": "https://localhost:8080/"
        },
        "outputId": "080501a1-23e4-4e7f-e616-fc7f647129d2"
      },
      "execution_count": null,
      "outputs": [
        {
          "output_type": "stream",
          "name": "stdout",
          "text": [
            "3\n",
            "(2, 2, 3)\n",
            "<dtype: 'int32'>\n"
          ]
        }
      ]
    },
    {
      "cell_type": "markdown",
      "source": [
        "tf.Variable(변수):  assign(value) 같은 메소드를 통해 할당된 값의 변경 가능"
      ],
      "metadata": {
        "id": "ANPKLpbokzyK"
      }
    },
    {
      "cell_type": "code",
      "source": [
        "d3_np_tensor = np.array([[[1, 2, 3],\n",
        "                          [4, 5, 6]],\n",
        "                         [[-1, -2, -3],\n",
        "                          [-4, -5, -6]]])"
      ],
      "metadata": {
        "id": "kG77aywsk5H4"
      },
      "execution_count": null,
      "outputs": []
    },
    {
      "cell_type": "code",
      "source": [
        "d3_np_tensor = d3_np_tensor.astype(np.float32)"
      ],
      "metadata": {
        "id": "2eH8d3pek7bH"
      },
      "execution_count": null,
      "outputs": []
    },
    {
      "cell_type": "code",
      "source": [
        "d3_np_tensor.dtype"
      ],
      "metadata": {
        "id": "EGqipUXYk8if",
        "colab": {
          "base_uri": "https://localhost:8080/"
        },
        "outputId": "a31b9eba-a768-49f4-b231-e0599fb0fed0"
      },
      "execution_count": null,
      "outputs": [
        {
          "output_type": "execute_result",
          "data": {
            "text/plain": [
              "dtype('float32')"
            ]
          },
          "metadata": {},
          "execution_count": 21
        }
      ]
    },
    {
      "cell_type": "code",
      "source": [
        "d3_var_tensor = tf.Variable(d3_np_tensor)"
      ],
      "metadata": {
        "id": "4vjPUdebk9qY"
      },
      "execution_count": null,
      "outputs": []
    },
    {
      "cell_type": "code",
      "source": [
        "d3_var_tensor"
      ],
      "metadata": {
        "id": "la66NPmYk-0Z",
        "colab": {
          "base_uri": "https://localhost:8080/"
        },
        "outputId": "3ed0f989-7a72-418c-da09-2bb5f584673d"
      },
      "execution_count": null,
      "outputs": [
        {
          "output_type": "execute_result",
          "data": {
            "text/plain": [
              "<tf.Variable 'Variable:0' shape=(2, 2, 3) dtype=float32, numpy=\n",
              "array([[[ 1.,  2.,  3.],\n",
              "        [ 4.,  5.,  6.]],\n",
              "\n",
              "       [[-1., -2., -3.],\n",
              "        [-4., -5., -6.]]], dtype=float32)>"
            ]
          },
          "metadata": {},
          "execution_count": 23
        }
      ]
    },
    {
      "cell_type": "code",
      "source": [
        "print(d3_var_tensor.ndim)"
      ],
      "metadata": {
        "id": "JK-9bOp_lAVP",
        "colab": {
          "base_uri": "https://localhost:8080/",
          "height": 174
        },
        "outputId": "86d4b0ea-8ee3-4c08-a705-1b1fb8d946b9"
      },
      "execution_count": null,
      "outputs": [
        {
          "output_type": "error",
          "ename": "AttributeError",
          "evalue": "ignored",
          "traceback": [
            "\u001b[0;31m---------------------------------------------------------------------------\u001b[0m",
            "\u001b[0;31mAttributeError\u001b[0m                            Traceback (most recent call last)",
            "\u001b[0;32m<ipython-input-24-b033d185e811>\u001b[0m in \u001b[0;36m<module>\u001b[0;34m()\u001b[0m\n\u001b[0;32m----> 1\u001b[0;31m \u001b[0mprint\u001b[0m\u001b[0;34m(\u001b[0m\u001b[0md3_var_tensor\u001b[0m\u001b[0;34m.\u001b[0m\u001b[0mndim\u001b[0m\u001b[0;34m)\u001b[0m\u001b[0;34m\u001b[0m\u001b[0;34m\u001b[0m\u001b[0m\n\u001b[0m",
            "\u001b[0;31mAttributeError\u001b[0m: 'ResourceVariable' object has no attribute 'ndim'"
          ]
        }
      ]
    },
    {
      "cell_type": "code",
      "source": [
        "print(d3_var_tensor.shape)\n",
        "print(d3_var_tensor.dtype)"
      ],
      "metadata": {
        "id": "OLSN1uk1lBZ4",
        "colab": {
          "base_uri": "https://localhost:8080/"
        },
        "outputId": "b4a637cf-d2f6-4cea-90b0-b5508c650b4e"
      },
      "execution_count": null,
      "outputs": [
        {
          "output_type": "stream",
          "name": "stdout",
          "text": [
            "(2, 2, 3)\n",
            "<dtype: 'float32'>\n"
          ]
        }
      ]
    },
    {
      "cell_type": "code",
      "source": [
        "d3_var_tensor[0, 0, 0].assign(0)"
      ],
      "metadata": {
        "id": "ck7-So2BlCom",
        "colab": {
          "base_uri": "https://localhost:8080/"
        },
        "outputId": "d3d0b19b-59d1-4646-cd9f-c52433e70657"
      },
      "execution_count": null,
      "outputs": [
        {
          "output_type": "execute_result",
          "data": {
            "text/plain": [
              "<tf.Variable 'UnreadVariable' shape=(2, 2, 3) dtype=float32, numpy=\n",
              "array([[[ 0.,  2.,  3.],\n",
              "        [ 4.,  5.,  6.]],\n",
              "\n",
              "       [[-1., -2., -3.],\n",
              "        [-4., -5., -6.]]], dtype=float32)>"
            ]
          },
          "metadata": {},
          "execution_count": 26
        }
      ]
    },
    {
      "cell_type": "markdown",
      "source": [
        "Practice"
      ],
      "metadata": {
        "id": "BDZMuh7flVGr"
      }
    },
    {
      "cell_type": "markdown",
      "source": [
        "1. tensorflow 라이브러리를 이용하여 아래 속성 정보를 가지는 상수 텐서 객체 생성 및 속성 정보 출력"
      ],
      "metadata": {
        "id": "KfhlWmWLlhCM"
      }
    },
    {
      "cell_type": "markdown",
      "source": [
        "[출력 결과] \n",
        "차원        :  3\n",
        "크기        :  (3, 1, 2)\n",
        "데이터 타입 :  <dtype: 'int32'>"
      ],
      "metadata": {
        "id": "hW7B4QMcmfHx"
      }
    },
    {
      "cell_type": "code",
      "source": [
        "d3_tensor = tf.constant([[[1, 2]],\n",
        "                        [[3, 4]],\n",
        "                        [[5, 6]]])"
      ],
      "metadata": {
        "id": "VIJTfsKwmAtr"
      },
      "execution_count": null,
      "outputs": []
    },
    {
      "cell_type": "markdown",
      "source": [
        "2. 상수 텐서 객체의 값(ndarray) 복사하여 속성 정보 출력"
      ],
      "metadata": {
        "id": "zy3Y0IhFmE7K"
      }
    },
    {
      "cell_type": "markdown",
      "source": [
        "[출력 결과]\n",
        "차원        :  3\n",
        "크기        :  (3, 1, 2)\n",
        "데이터 타입 :  int32"
      ],
      "metadata": {
        "id": "hOPD9OhvmjRM"
      }
    },
    {
      "cell_type": "code",
      "source": [
        ""
      ],
      "metadata": {
        "id": "FhcRpsl_mGsf"
      },
      "execution_count": null,
      "outputs": []
    },
    {
      "cell_type": "markdown",
      "source": [
        "3. tensorflow 라이브러리를 이용하여 아래 속성 정보를 가지는 변수 텐서 객체 생성 및 속성 정보 출력\n"
      ],
      "metadata": {
        "id": "En4RRf40mG7R"
      }
    },
    {
      "cell_type": "markdown",
      "source": [
        "[출력 결과] 크기 : (2, 3, 1) 데이터 타입 : <dtype: 'int32'>"
      ],
      "metadata": {
        "id": "wwq4PKuGfvKj"
      }
    },
    {
      "cell_type": "code",
      "source": [
        ""
      ],
      "metadata": {
        "id": "UehdGDAOmJ54"
      },
      "execution_count": null,
      "outputs": []
    },
    {
      "cell_type": "markdown",
      "source": [
        "연산 : Numpy에서 사용 되는 대부분의 수학 연산을 동일한 방법으로 사용 가능 (TPU, GPU등 가속 하드웨어 이용하여 수행)"
      ],
      "metadata": {
        "id": "9YY1IiwbnJXz"
      }
    },
    {
      "cell_type": "code",
      "source": [
        "#(2, 3)\n",
        "tensor_a = tf.constant([[1., 2., 3.],\n",
        "                        [4., 5., 6.]])\n",
        "#(2, 3)\n",
        "tensor_b = tf.constant([[7., 8., 9.],\n",
        "                        [10., 11., 12.]])"
      ],
      "metadata": {
        "id": "pvZIkxJnnNBV"
      },
      "execution_count": null,
      "outputs": []
    },
    {
      "cell_type": "code",
      "source": [
        "tensor_c = tensor_a + tensor_b\n",
        "tensor_c"
      ],
      "metadata": {
        "id": "-BXwuuH1nYqz",
        "colab": {
          "base_uri": "https://localhost:8080/"
        },
        "outputId": "1bcd4562-4bdb-4856-a727-3efe4882ec50"
      },
      "execution_count": null,
      "outputs": [
        {
          "output_type": "execute_result",
          "data": {
            "text/plain": [
              "<tf.Tensor: shape=(2, 3), dtype=float32, numpy=\n",
              "array([[ 8., 10., 12.],\n",
              "       [14., 16., 18.]], dtype=float32)>"
            ]
          },
          "metadata": {},
          "execution_count": 28
        }
      ]
    },
    {
      "cell_type": "code",
      "source": [
        "tensor_d = tf.math.square(tensor_c)\n",
        "tensor_d"
      ],
      "metadata": {
        "id": "fAsAAZkJna3z",
        "colab": {
          "base_uri": "https://localhost:8080/"
        },
        "outputId": "dfa044b1-7ebc-4e74-f340-e1c44027a46c"
      },
      "execution_count": null,
      "outputs": [
        {
          "output_type": "execute_result",
          "data": {
            "text/plain": [
              "<tf.Tensor: shape=(2, 3), dtype=float32, numpy=\n",
              "array([[ 64., 100., 144.],\n",
              "       [196., 256., 324.]], dtype=float32)>"
            ]
          },
          "metadata": {},
          "execution_count": 29
        }
      ]
    },
    {
      "cell_type": "code",
      "source": [
        "tensor_d = tf.square(tensor_c)\n",
        "tensor_d"
      ],
      "metadata": {
        "id": "rBdKBlhGncJJ",
        "colab": {
          "base_uri": "https://localhost:8080/"
        },
        "outputId": "688bfdcf-201a-4103-faea-2771ea1b31bf"
      },
      "execution_count": null,
      "outputs": [
        {
          "output_type": "execute_result",
          "data": {
            "text/plain": [
              "<tf.Tensor: shape=(2, 3), dtype=float32, numpy=\n",
              "array([[ 64., 100., 144.],\n",
              "       [196., 256., 324.]], dtype=float32)>"
            ]
          },
          "metadata": {},
          "execution_count": 30
        }
      ]
    },
    {
      "cell_type": "code",
      "source": [
        "tensor_e = tf.math.log(tensor_d)\n",
        "tensor_e"
      ],
      "metadata": {
        "id": "rhlx5IZXndjx",
        "colab": {
          "base_uri": "https://localhost:8080/"
        },
        "outputId": "d0cc85c1-710d-40e7-978e-12861332cd75"
      },
      "execution_count": null,
      "outputs": [
        {
          "output_type": "execute_result",
          "data": {
            "text/plain": [
              "<tf.Tensor: shape=(2, 3), dtype=float32, numpy=\n",
              "array([[4.158883 , 4.6051702, 4.9698133],\n",
              "       [5.278115 , 5.5451775, 5.7807436]], dtype=float32)>"
            ]
          },
          "metadata": {},
          "execution_count": 31
        }
      ]
    },
    {
      "cell_type": "markdown",
      "source": [
        "미분"
      ],
      "metadata": {
        "id": "XJAEusj_neqK"
      }
    },
    {
      "cell_type": "code",
      "source": [
        "tensor_var_a = tf.Variable([[1., 2., 3.],\n",
        "                            [4., 5., 6.]])\n",
        "\n",
        "tensor_var_b = tf.Variable([[7., 8., 9.],\n",
        "                            [10., 11., 12.]])"
      ],
      "metadata": {
        "id": "Uxmzj71rnlCN"
      },
      "execution_count": null,
      "outputs": []
    },
    {
      "cell_type": "code",
      "source": [
        "tensor_var_a"
      ],
      "metadata": {
        "id": "NyXBL__MnmQM",
        "colab": {
          "base_uri": "https://localhost:8080/"
        },
        "outputId": "b06f7b8d-b9cb-42f3-b30e-99598e1c22e3"
      },
      "execution_count": null,
      "outputs": [
        {
          "output_type": "execute_result",
          "data": {
            "text/plain": [
              "<tf.Variable 'Variable:0' shape=(2, 3) dtype=float32, numpy=\n",
              "array([[1., 2., 3.],\n",
              "       [4., 5., 6.]], dtype=float32)>"
            ]
          },
          "metadata": {},
          "execution_count": 33
        }
      ]
    },
    {
      "cell_type": "code",
      "source": [
        "tensor_var_b"
      ],
      "metadata": {
        "id": "fYPwCjq2oDzz",
        "colab": {
          "base_uri": "https://localhost:8080/"
        },
        "outputId": "b73c7b37-6bdd-48aa-d92d-762f157bc353"
      },
      "execution_count": null,
      "outputs": [
        {
          "output_type": "execute_result",
          "data": {
            "text/plain": [
              "<tf.Variable 'Variable:0' shape=(2, 3) dtype=float32, numpy=\n",
              "array([[ 7.,  8.,  9.],\n",
              "       [10., 11., 12.]], dtype=float32)>"
            ]
          },
          "metadata": {},
          "execution_count": 34
        }
      ]
    },
    {
      "cell_type": "code",
      "source": [
        "with tf.GradientTape() as tape:\n",
        "  tensor_var_c = tf.square(tensor_var_a + tensor_var_b)\n",
        "  gradient_ca = tape.gradient(target=tensor_var_c, sources=tensor_var_a)\n",
        "  print(gradient_ca)"
      ],
      "metadata": {
        "id": "LREpf0GzoF7x",
        "colab": {
          "base_uri": "https://localhost:8080/"
        },
        "outputId": "fe963166-3095-45c1-8b8d-deb475afb8d4"
      },
      "execution_count": null,
      "outputs": [
        {
          "output_type": "stream",
          "name": "stdout",
          "text": [
            "tf.Tensor(\n",
            "[[16. 20. 24.]\n",
            " [28. 32. 36.]], shape=(2, 3), dtype=float32)\n"
          ]
        }
      ]
    },
    {
      "cell_type": "markdown",
      "source": [
        "Practice"
      ],
      "metadata": {
        "id": "Lwo-yf3hoIUb"
      }
    },
    {
      "cell_type": "markdown",
      "source": [
        " tensorflow 연산자를 이용해 z = (x+y)^2 계산식에서 x 값이 z 값에 미치는 영향도(미분) 계산"
      ],
      "metadata": {
        "id": "pBs9lWHPoNTL"
      }
    },
    {
      "cell_type": "markdown",
      "source": [
        " [출력 결과]\n",
        "[[*.**  *.**  *.**]\n",
        " [*.**  *.**  *.**]]"
      ],
      "metadata": {
        "id": "ytf59q_UofjT"
      }
    },
    {
      "cell_type": "code",
      "source": [
        "tensor_x = tf.Variable([[1., 2., 3.],\n",
        "                        [4., 5., 6.]])\n",
        "\n",
        "tensor_y = tf.Variable([[7., 8., 9.],\n",
        "                        [10., 11., 12.]])"
      ],
      "metadata": {
        "id": "bM5mwZtFoMMr"
      },
      "execution_count": null,
      "outputs": []
    },
    {
      "cell_type": "code",
      "source": [
        "with tf.GradientTape() as tape:\n",
        "  tensor_z = tf.square(tensor_x + tensor_y)\n",
        "  gradient_zx = tape.gradient(target=tensor_z, sources=tensor_x)\n",
        "  print(np.round(gradient_zx,2))"
      ],
      "metadata": {
        "colab": {
          "base_uri": "https://localhost:8080/"
        },
        "id": "hXuP8eAOmPz6",
        "outputId": "331d78b3-344a-4e8e-e405-5a5d74e0acb7"
      },
      "execution_count": null,
      "outputs": [
        {
          "output_type": "stream",
          "name": "stdout",
          "text": [
            "[[16. 20. 24.]\n",
            " [28. 32. 36.]]\n"
          ]
        }
      ]
    },
    {
      "cell_type": "markdown",
      "source": [
        "Perceptron"
      ],
      "metadata": {
        "id": "tRoAJcmxouU5"
      }
    },
    {
      "cell_type": "code",
      "source": [
        "# 파라미터 값(input 특성 개수, 퍼셉트론의 개수, 학습률) 설정\n",
        "input_dim = 2\n",
        "hidden_units = 1\n",
        "learning_rate=0.01"
      ],
      "metadata": {
        "id": "SWjrkeWmo3UW"
      },
      "execution_count": null,
      "outputs": []
    },
    {
      "cell_type": "code",
      "source": [
        "# 가중치(input 특성 : 2/ 퍼셉트론 : 1)\n",
        "w = tf.Variable(tf.random.uniform(shape=(input_dim, hidden_units)))\n",
        "\n",
        "# 편향(퍼셉트론 : 1)\n",
        "b = tf.Variable(tf.zeros(shape=()))"
      ],
      "metadata": {
        "id": "FA8cS4FJo8im"
      },
      "execution_count": null,
      "outputs": []
    },
    {
      "cell_type": "code",
      "source": [
        "w"
      ],
      "metadata": {
        "id": "KrJ7w3AQo95G",
        "colab": {
          "base_uri": "https://localhost:8080/"
        },
        "outputId": "ed6671c4-21af-4361-9e43-ba4f42173a90"
      },
      "execution_count": null,
      "outputs": [
        {
          "output_type": "execute_result",
          "data": {
            "text/plain": [
              "<tf.Variable 'Variable:0' shape=(2, 1) dtype=float32, numpy=\n",
              "array([[0.5398561],\n",
              "       [0.1326319]], dtype=float32)>"
            ]
          },
          "metadata": {},
          "execution_count": 39
        }
      ]
    },
    {
      "cell_type": "code",
      "source": [
        "b"
      ],
      "metadata": {
        "id": "efhuim9Go-R3",
        "colab": {
          "base_uri": "https://localhost:8080/"
        },
        "outputId": "76fc806a-10d8-4568-9292-7a6712a67394"
      },
      "execution_count": null,
      "outputs": [
        {
          "output_type": "execute_result",
          "data": {
            "text/plain": [
              "<tf.Variable 'Variable:0' shape=() dtype=float32, numpy=0.0>"
            ]
          },
          "metadata": {},
          "execution_count": 40
        }
      ]
    },
    {
      "cell_type": "code",
      "source": [
        "# 퍼셉트론의 수학 모델 f(x*w + b)\n",
        "def predict(input):\n",
        "  x = tf.matmul(input, w) + b\n",
        "  x = tf.maximum(0, x)\n",
        "  return x"
      ],
      "metadata": {
        "id": "fLgSKIWzo_zz"
      },
      "execution_count": null,
      "outputs": []
    },
    {
      "cell_type": "code",
      "source": [
        "# loss(mse)\n",
        "def mse_loss(labels, predictions):\n",
        "  loss = tf.reduce_mean(tf.square(labels - predictions))\n",
        "  return loss"
      ],
      "metadata": {
        "id": "mU3vmlOTpBKB"
      },
      "execution_count": null,
      "outputs": []
    },
    {
      "cell_type": "code",
      "source": [
        "# train\n",
        "def train(inputs, labels):\n",
        "  with tf.GradientTape() as tape:\n",
        "    # 퍼셉트론 모델을 예측값을 계산\n",
        "    predictions = predict(inputs)\n",
        "    # 모델의 예측값과 정답간의 에러를 loss 을 이용해 계산\n",
        "    loss = mse_loss(labels, predictions)\n",
        "    # 모델의 변수(w, b) loss 값에 미치는 영향도를 미분(오차역전파)을 통해 계산\n",
        "    gradient_lw, gradient_lb = tape.gradient(loss, [w, b])\n",
        "  # 경사하강법을 수행해서 모델의 변수(w, b) 업데이트\n",
        "  w.assign(w - learning_rate * gradient_lw)\n",
        "  b.assign(b - learning_rate * gradient_lb)\n",
        "  return loss"
      ],
      "metadata": {
        "id": "9L-MYGZJpCUp"
      },
      "execution_count": null,
      "outputs": []
    },
    {
      "cell_type": "markdown",
      "source": [
        "퍼셉트론 모델 학습을 위한 AND Gate 데이터 생성"
      ],
      "metadata": {
        "id": "66ZZNDGmye6t"
      }
    },
    {
      "cell_type": "code",
      "source": [
        "# 퍼셉트론 모델 학습을 위한 OR Gate 데이터 생성\n",
        "inputs = np.array([[0, 0],\n",
        "                   [0, 1],\n",
        "                   [1, 0],\n",
        "                   [1, 1]], dtype=np.float32)\n",
        "\n",
        "labels = np.array([0, 0, 0, 1], dtype=np.float32)"
      ],
      "metadata": {
        "id": "vFNpZKXqygPS"
      },
      "execution_count": null,
      "outputs": []
    },
    {
      "cell_type": "code",
      "source": [
        "import matplotlib.pyplot as plt\n",
        "%matplotlib inline"
      ],
      "metadata": {
        "id": "jxWCfH6XzPVu"
      },
      "execution_count": null,
      "outputs": []
    },
    {
      "cell_type": "code",
      "source": [
        "plt.scatter(inputs[:, 0], inputs[:, 1], c=labels[:])"
      ],
      "metadata": {
        "id": "oLWRtTJyzGl_",
        "colab": {
          "base_uri": "https://localhost:8080/",
          "height": 283
        },
        "outputId": "554ba968-179d-482b-b79e-a5952ae41805"
      },
      "execution_count": null,
      "outputs": [
        {
          "output_type": "execute_result",
          "data": {
            "text/plain": [
              "<matplotlib.collections.PathCollection at 0x7f551884a410>"
            ]
          },
          "metadata": {},
          "execution_count": 59
        },
        {
          "output_type": "display_data",
          "data": {
            "text/plain": [
              "<Figure size 432x288 with 1 Axes>"
            ],
            "image/png": "[encoded data removed]"
          },
          "metadata": {
            "needs_background": "light"
          }
        }
      ]
    },
    {
      "cell_type": "code",
      "source": [
        "\n",
        "# train 함수를 반복적으로 실행하여 퍼셉트론 모델을 학습\n",
        "\n",
        "for epoch in range(100):\n",
        "  # input 데이터와 label 데이터를 한 건씩 추출하여 train 함수에 전달\n",
        "  for x, y in zip(inputs, labels):\n",
        "    loss = train([x], [y])\n",
        "\n",
        "# 학습된 모델에 input 데이터 입력하여 예측결과 계산\n",
        "predictions = predict(inputs)\n"
      ],
      "metadata": {
        "id": "Sb50L2smyjuq"
      },
      "execution_count": null,
      "outputs": []
    },
    {
      "cell_type": "code",
      "source": [
        "predictions"
      ],
      "metadata": {
        "colab": {
          "base_uri": "https://localhost:8080/"
        },
        "id": "qgfI4cKKrCm2",
        "outputId": "a04319e0-1d89-44aa-9169-a873dfd2f95b"
      },
      "execution_count": null,
      "outputs": [
        {
          "output_type": "execute_result",
          "data": {
            "text/plain": [
              "<tf.Tensor: shape=(5000, 1), dtype=float32, numpy=\n",
              "array([[0.36664292],\n",
              "       [0.09207287],\n",
              "       [0.66643727],\n",
              "       ...,\n",
              "       [0.44058642],\n",
              "       [0.19225606],\n",
              "       [0.32932428]], dtype=float32)>"
            ]
          },
          "metadata": {},
          "execution_count": 66
        }
      ]
    },
    {
      "cell_type": "code",
      "source": [
        "print('*******모델의 예측 결과*******')\n",
        "print(predictions[:]> 0.5)"
      ],
      "metadata": {
        "id": "2JvPVr2gyoEa",
        "colab": {
          "base_uri": "https://localhost:8080/"
        },
        "outputId": "61015555-3c8c-4e66-9971-eff35ef47fd4"
      },
      "execution_count": null,
      "outputs": [
        {
          "output_type": "stream",
          "name": "stdout",
          "text": [
            "*******모델의 예측 결과*******\n",
            "tf.Tensor(\n",
            "[[False]\n",
            " [False]\n",
            " [False]\n",
            " [ True]], shape=(4, 1), dtype=bool)\n"
          ]
        }
      ]
    },
    {
      "cell_type": "code",
      "source": [
        "test_inputs = np.random.uniform(0, 1, (5000, 2)).astype(np.float32)"
      ],
      "metadata": {
        "id": "4Df8QkCmytaL"
      },
      "execution_count": null,
      "outputs": []
    },
    {
      "cell_type": "code",
      "source": [
        "test_inputs"
      ],
      "metadata": {
        "id": "aajCG7W0zc4r",
        "colab": {
          "base_uri": "https://localhost:8080/"
        },
        "outputId": "913984fd-f084-4f9e-9524-d042bef8cb5a"
      },
      "execution_count": null,
      "outputs": [
        {
          "output_type": "execute_result",
          "data": {
            "text/plain": [
              "array([[0.657501  , 0.6495656 ],\n",
              "       [0.44662538, 0.32747564],\n",
              "       [0.953882  , 0.92746484],\n",
              "       ...,\n",
              "       [0.9684381 , 0.45276898],\n",
              "       [0.91965264, 0.00310844],\n",
              "       [0.7775738 , 0.4398536 ]], dtype=float32)"
            ]
          },
          "metadata": {},
          "execution_count": 63
        }
      ]
    },
    {
      "cell_type": "code",
      "source": [
        "predictions = predict(test_inputs)\n",
        "plt.scatter(test_inputs[:, 0], test_inputs[:, 1], c=predictions[:]> 0.5)"
      ],
      "metadata": {
        "id": "Bz_iefyEzg5e",
        "colab": {
          "base_uri": "https://localhost:8080/",
          "height": 283
        },
        "outputId": "87eee5a6-fa12-4009-c07e-9339b36f73ae"
      },
      "execution_count": null,
      "outputs": [
        {
          "output_type": "execute_result",
          "data": {
            "text/plain": [
              "<matplotlib.collections.PathCollection at 0x7f55187c4410>"
            ]
          },
          "metadata": {},
          "execution_count": 64
        },
        {
          "output_type": "display_data",
          "data": {
            "text/plain": [
              "<Figure size 432x288 with 1 Axes>"
            ],
            "image/png": "[encoded data removed]"
          },
          "metadata": {
            "needs_background": "light"
          }
        }
      ]
    },
    {
      "cell_type": "markdown",
      "source": [
        "practice"
      ],
      "metadata": {
        "id": "Xj166DMZpJL_"
      }
    },
    {
      "cell_type": "markdown",
      "source": [
        "퍼셉트론 모델 학습을 위한 OR Gate 데이터 생성"
      ],
      "metadata": {
        "id": "2c05iIxrf0VD"
      }
    },
    {
      "cell_type": "code",
      "source": [
        "inputs = np.array([[0, 0],\n",
        "                   [0, 1],\n",
        "                   [1, 0],\n",
        "                   [1, 1]], dtype=np.float32)\n",
        "\n",
        "labels = np.array([0, 1, 1, 1], dtype=np.float32)"
      ],
      "metadata": {
        "id": "4di-YaUMph9j"
      },
      "execution_count": null,
      "outputs": []
    },
    {
      "cell_type": "code",
      "source": [
        "import matplotlib.pyplot as plt\n",
        "%matplotlib inline\n",
        "plt.scatter(inputs[:, 0], inputs[:, 1], c=labels[:])\n",
        "# train 함수를 반복적으로 실행하여 퍼셉트론 모델을 학습\n",
        "\n",
        "for epoch in range(100):\n",
        "  # input 데이터와 label 데이터를 한 건씩 추출하여 train 함수에 전달\n",
        "  for x, y in zip(inputs, labels):\n",
        "    loss = train([x], [y])\n",
        "\n",
        "# 학습된 모델에 input 데이터 입력하여 예측결과 계산\n",
        "predictions = predict(inputs)\n",
        "print('*******모델의 예측 결과*******')\n",
        "print(predictions[:]> 0.5)\n",
        "predictions = predict(test_inputs)\n",
        "plt.scatter(test_inputs[:, 0], test_inputs[:, 1], c=predictions[:]> 0.5)"
      ],
      "metadata": {
        "colab": {
          "base_uri": "https://localhost:8080/",
          "height": 394
        },
        "id": "G5sYQ15Or3Us",
        "outputId": "0468dc6c-e053-426f-ae6d-56625e83e5f1"
      },
      "execution_count": null,
      "outputs": [
        {
          "output_type": "stream",
          "name": "stdout",
          "text": [
            "*******모델의 예측 결과*******\n",
            "tf.Tensor(\n",
            "[[False]\n",
            " [ True]\n",
            " [ True]\n",
            " [ True]], shape=(4, 1), dtype=bool)\n"
          ]
        },
        {
          "output_type": "execute_result",
          "data": {
            "text/plain": [
              "<matplotlib.collections.PathCollection at 0x7f5518584590>"
            ]
          },
          "metadata": {},
          "execution_count": 72
        },
        {
          "output_type": "display_data",
          "data": {
            "text/plain": [
              "<Figure size 432x288 with 1 Axes>"
            ],
            "image/png": "[encoded data removed]"
          },
          "metadata": {
            "needs_background": "light"
          }
        }
      ]
    }
  ]
}